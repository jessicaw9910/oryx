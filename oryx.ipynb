{
 "cells": [
  {
   "cell_type": "code",
   "execution_count": 1,
   "id": "c291eb30",
   "metadata": {},
   "outputs": [],
   "source": [
    "## load packages\n",
    "from bs4 import BeautifulSoup\n",
    "import requests\n",
    "import re\n",
    "import os\n",
    "import numpy as np\n",
    "import pandas as pd"
   ]
  },
  {
   "cell_type": "markdown",
   "id": "d57ff690",
   "metadata": {},
   "source": [
    "# Import and process"
   ]
  },
  {
   "cell_type": "code",
   "execution_count": 2,
   "id": "632fe3c9",
   "metadata": {},
   "outputs": [],
   "source": [
    "class Data:\n",
    "    def __init__(self, url):\n",
    "        self.url = url\n",
    "        ## names of items\n",
    "        self.list_name = []\n",
    "        ## status of items\n",
    "        self.list_status = []\n",
    "        ## total number of items\n",
    "        self.list_count = []\n",
    "        ## index of item for status\n",
    "        self.list_idx = []\n",
    "        ## link to confirmation\n",
    "        self.list_link = []\n",
    "    \n",
    "    def get_soup(self):\n",
    "        page = requests.get(self.url)\n",
    "        self.soup = BeautifulSoup(page.content, 'html.parser')\n",
    "    \n",
    "    def get_tags(self):\n",
    "        ## needed for extract_info\n",
    "        li = self.soup.findAll('li')\n",
    "        self.list_total = [i.text.strip() for i in li if i.find('img', class_='thumbborder') is not None]\n",
    "        self.list_href = [i.findAll('a', href=True) for i in li if i.find('img', class_='thumbborder') is not None]\n",
    "        ## needed for add_groups\n",
    "        self.list_h3 = self.soup.findAll('h3')\n",
    "        self.list_tags = [tag.name for tag in self.soup.find_all(True)]\n",
    "        \n",
    "    def extract_info(self):\n",
    "        for idx, entry in enumerate(self.list_total):\n",
    "            ## take left of ':', remove leading/trailing space, split on first ' '\n",
    "            temp1 = entry.split(':')[0].strip().split(' ', 1)\n",
    "\n",
    "            ## turn string at front into int\n",
    "            try:\n",
    "                self.list_count.append(int(temp1[0]))\n",
    "            ## some have extra char, so take 1st str if so\n",
    "            except:\n",
    "                self.list_count.append(int(temp1[0][0]))\n",
    "\n",
    "            ## add item name\n",
    "            self.list_name.append(temp1[1])\n",
    "\n",
    "            ## take right of ':'\n",
    "            temp2 = entry.split(':')[1].strip()\n",
    "            ## take data between '()'\n",
    "            temp2 = re.findall('\\(.*?\\)',temp2)\n",
    "            ## split on last space to the right, remove '(' and ')'\n",
    "            temp2 = [i.replace('(', '').replace(')', '').rsplit(' ', 1) for i in temp2]\n",
    "            \n",
    "            count = []\n",
    "            status = []\n",
    "            link = []\n",
    "\n",
    "            for i, val in enumerate(temp2):\n",
    "                ## some numbers concatenated together so find all numbers\n",
    "                num = [int(s) for s in re.findall(r'\\s|,|[^,\\s]+', val[0]) if s.isdigit()]\n",
    "                count.extend(num)\n",
    "                ## get data after last space to the right\n",
    "                status.extend([val[1].strip()] * len(num))\n",
    "                ## add link to match the number of occurrences\n",
    "                link.extend([self.list_href[idx][i]['href']] * len(num))\n",
    "\n",
    "            self.list_idx.append(count)\n",
    "            self.list_status.append(status)\n",
    "            self.list_link.append(link)\n",
    "\n",
    "    def flatten_lists(self):\n",
    "        names = [[self.list_name[i]] * len(j) for i, j in enumerate(self.list_status)]\n",
    "        self.flat_name = [item for sublist in names for item in sublist]\n",
    "        self.flat_status = [item for sublist in self.list_status for item in sublist]\n",
    "        self.flat_index = [item for sublist in self.list_idx for item in sublist]\n",
    "        self.flat_link = [item for sublist in self.list_link for item in sublist]\n",
    "        self.flat_group = [item for sublist in self.list_groups for item in sublist]\n",
    "        self.flat_country = [item for sublist in self.list_countries for item in sublist]\n",
    "            \n",
    "    def add_groups(self):\n",
    "        ## find relative indices where text != '\\n'\n",
    "        idx_h3 = [m for m, n in enumerate(self.list_h3) if n.text != '\\n']\n",
    "        ## find text where text != '\\n'\n",
    "        name_h3 = [n.text for n in self.list_h3 if n.text != '\\n']\n",
    "\n",
    "        ## find all tags\n",
    "        ## absolute find index of all h3 tags\n",
    "        idx_tag = [idx for idx, tag in enumerate(self.list_tags) if tag == 'h3']\n",
    "        ## retain only absolute indices where text != '\\n'\n",
    "        idx_h3 = [idx_tag[i] for i in idx_h3]\n",
    "\n",
    "        ## find index of li tags\n",
    "        idx_li = [n for n, tag in enumerate(self.list_tags) if tag == 'li']\n",
    "\n",
    "        ## find text for all tags\n",
    "        text = [name.text for name in self.soup.find_all(True)]\n",
    "\n",
    "        ## find top-level tags where 'Russia' and 'Ukraine' occur\n",
    "        idx_rus = [i for i in idx_h3 if 'Russia' in text[i]][0]\n",
    "        idx_ukr = [i for i in idx_h3 if 'Ukraine' in text[i]][0]\n",
    "        \n",
    "        ## find all headings outside of those that contain 'Russia' and 'Ukraine'\n",
    "        categories = [text[i] for i in idx_h3 if i not in [idx_rus, idx_ukr]]\n",
    "        ## take info from heading before first '('\n",
    "        name_cat = [entry.split('(')[0].strip() for entry in categories]\n",
    "        \n",
    "        list_indices = []\n",
    "        list_country = []\n",
    "\n",
    "        for i in range(len(idx_h3) - 1):\n",
    "            if idx_h3[i] not in [idx_rus, idx_ukr]:\n",
    "                list_indices.append([idx for idx in idx_li if idx > idx_h3[i] and idx < idx_h3[i + 1]])\n",
    "                if idx_h3[i] > idx_ukr:\n",
    "                    list_country.append('UKR')\n",
    "                else:\n",
    "                    list_country.append('RUS')\n",
    "\n",
    "        ## for last entry\n",
    "        list_country.append('UKR')\n",
    "\n",
    "        idx_names = np.cumsum([len(i) for i in list_indices])\n",
    "\n",
    "        group_names = []\n",
    "\n",
    "        group_names.append(self.list_name[0:idx_names[0]])\n",
    "\n",
    "        for i in range(len(idx_names) - 1):\n",
    "            group_names.append(self.list_name[idx_names[i]:idx_names[i + 1]])\n",
    "\n",
    "        ## for last entry\n",
    "        last_entry = self.list_name[idx_names[-1]:-1]\n",
    "        last_entry.append(self.list_name[-1])\n",
    "        group_names.append(last_entry)\n",
    "        \n",
    "        i = 0\n",
    "\n",
    "        ## iterate over list count to get individual entries\n",
    "        self.list_groups = []\n",
    "        self.list_countries = []\n",
    "\n",
    "        for idx, groups in enumerate(group_names):\n",
    "            for group in groups:\n",
    "                self.list_groups.append([name_cat[idx]] * self.list_count[i])\n",
    "                self.list_countries.append([list_country[idx]] * self.list_count[i])\n",
    "                i += 1\n",
    "\n",
    "    def find_error(self):\n",
    "        list_range = []\n",
    "        for j in self.list_count:\n",
    "            list_range.append([i for i in range(1, j + 1)])\n",
    "\n",
    "        idx_wrong = []\n",
    "        for idx, entry in enumerate(list_range):\n",
    "            if entry != self.list_idx[idx]:\n",
    "                idx_wrong.append(idx)\n",
    "\n",
    "        for i in idx_wrong:\n",
    "            print(i)\n",
    "            print(self.list_total[i])\n",
    "            print(self.list_idx[i])\n",
    "            print(len(self.list_idx[i]))\n",
    "            print(self.list_count[i])\n",
    "            print()\n",
    "\n",
    "        return idx_wrong"
   ]
  },
  {
   "cell_type": "code",
   "execution_count": 3,
   "id": "02b10fcb",
   "metadata": {},
   "outputs": [],
   "source": [
    "url = 'https://www.oryxspioenkop.com/2022/02/attack-on-europe-documenting-equipment.html'\n",
    "Oryx = Data(url)\n",
    "\n",
    "Oryx.get_soup()\n",
    "Oryx.get_tags()\n",
    "Oryx.extract_info()"
   ]
  },
  {
   "cell_type": "markdown",
   "id": "d5dbe605",
   "metadata": {},
   "source": [
    "# Fix errors"
   ]
  },
  {
   "cell_type": "code",
   "execution_count": 4,
   "id": "7bbbf633",
   "metadata": {},
   "outputs": [
    {
     "name": "stdout",
     "output_type": "stream",
     "text": [
      "83\n",
      "6 152mm 2A65 Msta-B howitzer: (1, destroyed by Bayraktar TB2) (2, destroyed by Bayraktar TB2) (3, destroyed by Bayraktar TB2) (4, damaged by Bayraktar TB2) (6, damaged by Bayraktar TB2) (6, abandoned)\n",
      "[1, 2, 3, 4, 6, 6]\n",
      "6\n",
      "6\n",
      "\n",
      "91\n",
      "2 220mm BM-27 'Uragan': (1, destroyed by Bayraktar TB2) (1, abandoned and destroyed)\n",
      "[1, 1]\n",
      "2\n",
      "2\n",
      "\n",
      "103\n",
      "4 9A330 Tor TLAR (for 9K330 Tor-M): (1, abandoned) (2, damaged and abandoned) (2, captured) (3, captured)\n",
      "[1, 2, 2, 3]\n",
      "4\n",
      "4\n",
      "\n",
      "138\n",
      "165 KamAZ 6x6: (1, destroyed by Bayraktar TB2) (2, destroyed by Bayraktar TB2) (3 and 4, destroyed by Bayraktar TB2) (5, destroyed by Bayraktar TB2) (6, destroyed) (7, destroyed) (8, destroyed) (9, destroyed) (10, destroyed) (11, destroyed) (12, destroyed) (13, destroyed) (14, destroyed) (15, destroyed) (16, destroyed) (17, destroyed) (18, destroyed) (19, destroyed) (20, destroyed) (21, destroyed) (22, destroyed) (23 and 24, destroyed) (25, destroyed) (26, destroyed) (27, destroyed) (28, destroyed) (29, destroyed) (30, destroyed) (31, destroyed) (32, destroyed) (33, destroyed) (34, destroyed) (34, destroyed) (35, destroyed) (36, destroyed) (37, destroyed) (38, destroyed) (39, destroyed) (40, destroyed) (41, destroyed) (42, destroyed) (43, destroyed) (44, destroyed) (45, destroyed) (46, destroyed) (47 and 48, destroyed) (49, destroyed) (50, destroyed) (51, destroyed) (52, destroyed) (53, destroyed) (54, destroyed) (55, destroyed) (56, destroyed) (56, destroyed) (57, destroyed) (58, destroyed) (59, destroyed) (60, destroyed) (61, with ZU-23 AA gun, destroyed) (62, 63, 64, 65 and 66, destroyed) (67, 68, 69 and 70, destroyed) (71, destroyed) (72, destroyed) (73, destroyed) (74 and 75, destroyed) (76, destroyed) (77, destroyed) (78, damaged) (79, damaged) (80, damaged) (81, damaged and abandoned) (82, abandoned) (83, abandoned) (84, abandoned) (85 and 86, abandoned) (87, abandoned) (88, abandoned) (89, abandoned) (90, abandoned) (91, abandoned) (92, abandoned) (93, abandoned) (94, abandoned) (95, abandoned) (96, abandoned) (97, abandoned) (98, abandoned) (99, abandoned) (100, abandoned) (101, abandoned) (102, damaged and captured) (103, damaged and captured) (104, damaged and captured) (105, captured) (106, captured) (107, captured) (108, captured) (109 and 110, captured) (111, captured) (112, captured) (113, captured) (114 and 115, captured) (116, captured) (117, captured) (118, captured) (119 and 120, captured) (121, captured) (122, captured) (123, with ZU-23 AA gun, captured) (124, with ZU-23 AA gun, captured) (125, captured) (126, captured) (127, captured) (128, captured) (129, captured) (130 and 131, captured) (132, captured) (133, captured) (134, captured) (135, captured) (136, captured) (137, captured) (138, captured) (139, captured) (140, captured) (141, captured) (142, captured) (143, captured) (144, captured) (145, captured) (146, 147 and 148, captured) (149, captured) (150, captured) (151, captured) (152, 153 and 154, captured) (155, captured) (156, captured) (157, captured) (158, captured) (159, captured) (160, captured) (161, captured) (162, captured) (163, captured) (164, captured) (165, captured)\n",
      "[1, 2, 3, 4, 5, 6, 7, 8, 9, 10, 11, 12, 13, 14, 15, 16, 17, 18, 19, 20, 21, 22, 23, 24, 25, 26, 27, 28, 29, 30, 31, 32, 33, 34, 34, 35, 36, 37, 38, 39, 40, 41, 42, 43, 44, 45, 46, 47, 48, 49, 50, 51, 52, 53, 54, 55, 56, 56, 57, 58, 59, 60, 61, 62, 63, 64, 65, 66, 67, 68, 69, 70, 71, 72, 73, 74, 75, 76, 77, 78, 79, 80, 81, 82, 83, 84, 85, 86, 87, 88, 89, 90, 91, 92, 93, 94, 95, 96, 97, 98, 99, 100, 101, 102, 103, 104, 105, 106, 107, 108, 109, 110, 111, 112, 113, 114, 115, 116, 117, 118, 119, 120, 121, 122, 123, 124, 125, 126, 127, 128, 129, 130, 131, 132, 133, 134, 135, 136, 137, 138, 139, 140, 141, 142, 143, 144, 145, 146, 147, 148, 149, 150, 151, 152, 153, 154, 155, 156, 157, 158, 159, 160, 161, 162, 163, 164, 165]\n",
      "167\n",
      "165\n",
      "\n",
      "218\n",
      "6 Small patrol boats (Sea Guard): (1, BG ??8, captured) (2, BG 311, captured) (3, BG 14, captured) (4, BG 24, captured) (5, BG 310, captured) (6, unknown ID, captured)\n",
      "[1, 2, 311, 3, 14, 4, 24, 5, 310, 6]\n",
      "10\n",
      "6\n",
      "\n"
     ]
    }
   ],
   "source": [
    "idx_wrong = Oryx.find_error()"
   ]
  },
  {
   "cell_type": "code",
   "execution_count": 5,
   "id": "90a0f718",
   "metadata": {},
   "outputs": [],
   "source": [
    "## fix errors\n",
    "Oryx.list_idx[83][4] = 5\n",
    "Oryx.list_idx[91][-1] = 2\n",
    "Oryx.list_idx[103][2] = 3\n",
    "Oryx.list_idx[103][3] = 4"
   ]
  },
  {
   "cell_type": "code",
   "execution_count": 6,
   "id": "17d74e2c",
   "metadata": {},
   "outputs": [
    {
     "name": "stdout",
     "output_type": "stream",
     "text": [
      "34\n",
      "56\n"
     ]
    }
   ],
   "source": [
    "## remove 2 duplicates in entries\n",
    "n = 138\n",
    "temp_idx = []\n",
    "temp_status = []\n",
    "temp_link = []\n",
    "\n",
    "for i, j in enumerate(Oryx.list_idx[n]):\n",
    "    if j not in temp_idx:\n",
    "        temp_idx.append(j)\n",
    "        temp_status.append(Oryx.list_status[n][i])\n",
    "        temp_link.append(Oryx.list_link[n][i])\n",
    "    else:\n",
    "        print(j)\n",
    "\n",
    "Oryx.list_idx[n] = temp_idx\n",
    "Oryx.list_status[n] = temp_status\n",
    "Oryx.list_link[n] = temp_link"
   ]
  },
  {
   "cell_type": "code",
   "execution_count": 7,
   "id": "082d94b8",
   "metadata": {},
   "outputs": [],
   "source": [
    "## fix errors caused by duplicate numbers\n",
    "n = 218\n",
    "\n",
    "idx_wrong = [2, 4, 6, 8]\n",
    "\n",
    "Oryx.list_idx[n] = [j for i, j in enumerate(Oryx.list_idx[n]) if i not in idx_wrong]\n",
    "Oryx.list_status[n] = [j for i, j in enumerate(Oryx.list_status[n]) if i not in idx_wrong]\n",
    "Oryx.list_link[n] = [j for i, j in enumerate(Oryx.list_link[n]) if i not in idx_wrong]"
   ]
  },
  {
   "cell_type": "code",
   "execution_count": 9,
   "id": "6cea0910",
   "metadata": {},
   "outputs": [
    {
     "data": {
      "text/plain": [
       "[]"
      ]
     },
     "execution_count": 9,
     "metadata": {},
     "output_type": "execute_result"
    }
   ],
   "source": [
    "Oryx.find_error()"
   ]
  },
  {
   "cell_type": "markdown",
   "id": "3a68be40",
   "metadata": {},
   "source": [
    "# Add groups"
   ]
  },
  {
   "cell_type": "code",
   "execution_count": 10,
   "id": "7e587f97",
   "metadata": {},
   "outputs": [],
   "source": [
    "Oryx.add_groups()"
   ]
  },
  {
   "cell_type": "code",
   "execution_count": 11,
   "id": "cea35f4b",
   "metadata": {},
   "outputs": [],
   "source": [
    "Oryx.flatten_lists()"
   ]
  },
  {
   "cell_type": "code",
   "execution_count": 12,
   "id": "aaca7d63",
   "metadata": {},
   "outputs": [
    {
     "name": "stdout",
     "output_type": "stream",
     "text": [
      "1890\n",
      "1890\n",
      "1890\n",
      "1890\n",
      "1890\n",
      "1890\n"
     ]
    }
   ],
   "source": [
    "print(len(Oryx.flat_name))\n",
    "print(len(Oryx.flat_status))\n",
    "print(len(Oryx.flat_index))\n",
    "print(len(Oryx.flat_group))\n",
    "print(len(Oryx.flat_country))\n",
    "print(len(Oryx.flat_link))"
   ]
  },
  {
   "cell_type": "code",
   "execution_count": 13,
   "id": "a81ff974",
   "metadata": {},
   "outputs": [],
   "source": [
    "df = pd.DataFrame({'name':Oryx.flat_name, \n",
    "                   'status':Oryx.flat_status, \n",
    "                   'idx': Oryx.flat_index, \n",
    "                   'group':Oryx.flat_group, \n",
    "                   'country':Oryx.flat_country, \n",
    "                   'link': Oryx.flat_link})"
   ]
  },
  {
   "cell_type": "code",
   "execution_count": 14,
   "id": "e2a261f3",
   "metadata": {},
   "outputs": [
    {
     "data": {
      "text/plain": [
       "group                              country\n",
       "Trucks, Vehicles and Jeeps         RUS        425\n",
       "Tanks                              RUS        232\n",
       "Infantry Fighting Vehicles         RUS        207\n",
       "Armoured Fighting Vehicles         RUS        143\n",
       "Trucks, Vehicles and Jeeps         UKR         87\n",
       "Armoured Personnel Carriers        RUS         68\n",
       "Tanks                              UKR         66\n",
       "Anti-Tank Guided Missiles          RUS         61\n",
       "Anti-tank Guided Missiles          UKR         50\n",
       "Armoured Fighting Vehicles         UKR         49\n",
       "Engineering Vehicles               RUS         43\n",
       "Infantry Fighting Vehicles         UKR         42\n",
       "Infantry Mobility Vehicles         RUS         40\n",
       "Helicopters                        RUS         32\n",
       "Self-Propelled Artillery           RUS         32\n",
       "Surface-To-Air Missile Systems     RUS         32\n",
       "Towed Artillery                    RUS         31\n",
       "Multiple Rocket Launchers          RUS         25\n",
       "Infantry Mobility Vehicles         UKR         24\n",
       "Man-Portable Air Defence Systems   RUS         24\n",
       "Armoured Personnel Carriers        UKR         22\n",
       "Man-Portable Air Defence Systems   UKR         16\n",
       "Towed Artillery                    UKR         15\n",
       "Naval Ships                        UKR         13\n",
       "Aircraft                           RUS         13\n",
       "Mine-Resistant Ambush Protected    RUS         11\n",
       "Surface-To-Air Missile Systems     UKR         11\n",
       "Self-Propelled Artillery           UKR         10\n",
       "Aircraft                           UKR          9\n",
       "Communications Stations            RUS          9\n",
       "Self-Propelled Anti-Aircraft Guns  RUS          9\n",
       "Unmanned Aerial Vehicles           RUS          8\n",
       "                                   UKR          6\n",
       "Heavy Mortars                      RUS          5\n",
       "Radars                             UKR          5\n",
       "Multiple Rocket Launchers          UKR          3\n",
       "Jammers And Deception Systems      RUS          3\n",
       "Logistics Trains                   RUS          2\n",
       "Anti-Aircraft Guns                 RUS          2\n",
       "Self-Propelled Anti-Aircraft Guns  UKR          1\n",
       "Helicopters                        UKR          1\n",
       "Engineering Vehicles               UKR          1\n",
       "Anti-Aircraft Guns                 UKR          1\n",
       "Radars                             RUS          1\n",
       "dtype: int64"
      ]
     },
     "execution_count": 14,
     "metadata": {},
     "output_type": "execute_result"
    }
   ],
   "source": [
    "df[['group', 'country']].value_counts()"
   ]
  },
  {
   "cell_type": "code",
   "execution_count": 15,
   "id": "6039162b",
   "metadata": {},
   "outputs": [
    {
     "data": {
      "text/plain": [
       "array(['Tanks', 'Armoured Fighting Vehicles',\n",
       "       'Infantry Fighting Vehicles', 'Armoured Personnel Carriers',\n",
       "       'Mine-Resistant Ambush Protected', 'Infantry Mobility Vehicles',\n",
       "       'Communications Stations', 'Engineering Vehicles',\n",
       "       'Anti-Tank Guided Missiles', 'Man-Portable Air Defence Systems',\n",
       "       'Heavy Mortars', 'Towed Artillery', 'Self-Propelled Artillery',\n",
       "       'Multiple Rocket Launchers', 'Anti-Aircraft Guns',\n",
       "       'Self-Propelled Anti-Aircraft Guns',\n",
       "       'Surface-To-Air Missile Systems', 'Radars',\n",
       "       'Jammers And Deception Systems', 'Aircraft',\n",
       "       'Unmanned Aerial Vehicles', 'Helicopters', 'Logistics Trains',\n",
       "       'Trucks, Vehicles and Jeeps', 'Anti-tank Guided Missiles',\n",
       "       'Naval Ships'], dtype=object)"
      ]
     },
     "execution_count": 15,
     "metadata": {},
     "output_type": "execute_result"
    }
   ],
   "source": [
    "df.group.unique()"
   ]
  },
  {
   "cell_type": "code",
   "execution_count": 16,
   "id": "85ab1723",
   "metadata": {},
   "outputs": [
    {
     "name": "stdout",
     "output_type": "stream",
     "text": [
      "2022-03-16T193938Z\n"
     ]
    }
   ],
   "source": [
    "## save by datemod meta tag\n",
    "datemod = str(Oryx.soup.findAll('meta', itemprop=\"dateModified\", content=True))\n",
    "datemod = re.findall('\"([^\"]*)\"', datemod)[0].replace(':', '')\n",
    "print(datemod)"
   ]
  },
  {
   "cell_type": "code",
   "execution_count": 17,
   "id": "1b9038df",
   "metadata": {},
   "outputs": [],
   "source": [
    "## output dataframe to CSV\n",
    "# cwd = os.getcwd()\n",
    "path = 'assets/' + datemod + '.csv'\n",
    "df.to_csv(path, index=False)"
   ]
  },
  {
   "cell_type": "code",
   "execution_count": 18,
   "id": "622df690",
   "metadata": {},
   "outputs": [
    {
     "name": "stdout",
     "output_type": "stream",
     "text": [
      "2022-03-16T193938Z\n"
     ]
    }
   ],
   "source": [
    "print(datemod)"
   ]
  },
  {
   "cell_type": "markdown",
   "id": "c72332d7",
   "metadata": {},
   "source": [
    "# NOT IN USE"
   ]
  },
  {
   "cell_type": "code",
   "execution_count": 30,
   "id": "ec6c3683",
   "metadata": {},
   "outputs": [],
   "source": [
    "num = []\n",
    "\n",
    "for idx, cat in enumerate(categories):\n",
    "    try:\n",
    "        num.append(int(re.findall('\\(.*?\\,',cat)[0].replace('(', '').replace(',', '')))\n",
    "    except:\n",
    "        #print(idx)\n",
    "        ## custom designed to fix this error - print idx if more arise\n",
    "        num.append(int(cat.split('(')[-1].split(',')[0]))"
   ]
  },
  {
   "cell_type": "code",
   "execution_count": 31,
   "id": "c8f526f8",
   "metadata": {},
   "outputs": [],
   "source": [
    "temp = [len(j) for j in Oryx.list_status]\n",
    "\n",
    "idx = 0\n",
    "test = []\n",
    "\n",
    "for i in group_names:\n",
    "    test.append(sum(temp[idx:idx + len(i)]))\n",
    "    idx += len(i)"
   ]
  },
  {
   "cell_type": "code",
   "execution_count": 32,
   "id": "62cac94b",
   "metadata": {},
   "outputs": [
    {
     "data": {
      "text/plain": [
       "1878"
      ]
     },
     "execution_count": 32,
     "metadata": {},
     "output_type": "execute_result"
    }
   ],
   "source": [
    "sum(num)"
   ]
  },
  {
   "cell_type": "code",
   "execution_count": 33,
   "id": "7dce6e8a",
   "metadata": {},
   "outputs": [
    {
     "data": {
      "text/plain": [
       "231"
      ]
     },
     "execution_count": 33,
     "metadata": {},
     "output_type": "execute_result"
    }
   ],
   "source": [
    "len(Oryx.list_link)"
   ]
  },
  {
   "cell_type": "code",
   "execution_count": 34,
   "id": "750a6902",
   "metadata": {},
   "outputs": [
    {
     "data": {
      "text/plain": [
       "1879"
      ]
     },
     "execution_count": 34,
     "metadata": {},
     "output_type": "execute_result"
    }
   ],
   "source": [
    "sum(Oryx.list_count)"
   ]
  },
  {
   "cell_type": "code",
   "execution_count": 35,
   "id": "e0949167",
   "metadata": {},
   "outputs": [
    {
     "data": {
      "text/plain": [
       "229"
      ]
     },
     "execution_count": 35,
     "metadata": {},
     "output_type": "execute_result"
    }
   ],
   "source": [
    "sum(temp[0:len(group_names[0])])"
   ]
  },
  {
   "cell_type": "code",
   "execution_count": 114,
   "id": "d147f3a8",
   "metadata": {},
   "outputs": [
    {
     "data": {
      "text/plain": [
       "[229,\n",
       " 140,\n",
       " 204,\n",
       " 68,\n",
       " 11,\n",
       " 40,\n",
       " 9,\n",
       " 41,\n",
       " 61,\n",
       " 24,\n",
       " 5,\n",
       " 31,\n",
       " 32,\n",
       " 25,\n",
       " 2,\n",
       " 9,\n",
       " 32,\n",
       " 1,\n",
       " 2,\n",
       " 13,\n",
       " 8,\n",
       " 32,\n",
       " 2,\n",
       " 418,\n",
       " 65,\n",
       " 49,\n",
       " 42,\n",
       " 22,\n",
       " 24,\n",
       " 1,\n",
       " 50,\n",
       " 16,\n",
       " 15,\n",
       " 10,\n",
       " 3,\n",
       " 1,\n",
       " 1,\n",
       " 11,\n",
       " 5,\n",
       " 9,\n",
       " 6,\n",
       " 1,\n",
       " 17,\n",
       " 87]"
      ]
     },
     "execution_count": 114,
     "metadata": {},
     "output_type": "execute_result"
    }
   ],
   "source": [
    "test"
   ]
  },
  {
   "cell_type": "code",
   "execution_count": 36,
   "id": "14508789",
   "metadata": {},
   "outputs": [],
   "source": [
    "idx_wrong = [i for i, j in enumerate(test) if j != num[i]]"
   ]
  },
  {
   "cell_type": "code",
   "execution_count": 37,
   "id": "fce2ea32",
   "metadata": {},
   "outputs": [
    {
     "data": {
      "text/plain": [
       "[23, 25, 43]"
      ]
     },
     "execution_count": 37,
     "metadata": {},
     "output_type": "execute_result"
    }
   ],
   "source": [
    "idx_wrong"
   ]
  },
  {
   "cell_type": "code",
   "execution_count": 38,
   "id": "d6b161ad",
   "metadata": {},
   "outputs": [
    {
     "data": {
      "text/plain": [
       "[['GAZ-66',\n",
       "  'ZiL-131',\n",
       "  \"transporter-loader (for BM-27 'Uragan' MRL)\",\n",
       "  '9T217 transloader (for 9K33 Osa)',\n",
       "  'GAZ-3308',\n",
       "  'GAZ Sobol',\n",
       "  'Ural-4320',\n",
       "  'Ural-43206',\n",
       "  'Ural Federal',\n",
       "  'Ural-63704-0010 Tornado-U',\n",
       "  'Ural-542301 tank transporter',\n",
       "  'KamAZ 4x4',\n",
       "  'KamAZ 6x6',\n",
       "  'KamAZ Avtozaks',\n",
       "  'KamAZ with armoured cabin',\n",
       "  'KamAZ-6350 8x8 artillery tractor',\n",
       "  'UAZ-469',\n",
       "  'UAZ Patriot',\n",
       "  'UAZ-23632',\n",
       "  'Armoured SUV',\n",
       "  'Unknown truck',\n",
       "  '(Unknown) vehicle'],\n",
       " ['BMP-1Khs',\n",
       "  'BRM-1K',\n",
       "  'BRDM-2',\n",
       "  '9P148 Konkurs ATGM carrier',\n",
       "  'MT-LB',\n",
       "  'MT-LB with ZU-23 AA gun',\n",
       "  'MT-LB Ambulance',\n",
       "  'MT-LBu',\n",
       "  'BSEM-4K',\n",
       "  'BREM-1 ARV',\n",
       "  'Vepr MRAP',\n",
       "  \"1V18 'Klyon-1' artillery command and forward observer vehicle\",\n",
       "  'SNAR-10 battlefield surveillance radar',\n",
       "  'Unknown AFV'],\n",
       " ['KrAZ-6322',\n",
       "  'KrAZ-5233',\n",
       "  \"transporter-loader (for BM-27 'Uragan' MRL)\",\n",
       "  'GAZ-66',\n",
       "  'ZiL-131',\n",
       "  'Ural-375D',\n",
       "  'Ural-4320',\n",
       "  'KamAZ',\n",
       "  'MAZ-537',\n",
       "  'MAZ',\n",
       "  'UAZ-469',\n",
       "  'UAZ-452',\n",
       "  'Unknown truck']]"
      ]
     },
     "execution_count": 38,
     "metadata": {},
     "output_type": "execute_result"
    }
   ],
   "source": [
    "[group_names[i] for i in idx_wrong]"
   ]
  },
  {
   "cell_type": "code",
   "execution_count": 39,
   "id": "7c6f6050",
   "metadata": {},
   "outputs": [],
   "source": [
    "n_test = [test[i] for i in idx_wrong]"
   ]
  },
  {
   "cell_type": "code",
   "execution_count": 40,
   "id": "6b75226a",
   "metadata": {},
   "outputs": [
    {
     "data": {
      "text/plain": [
       "[422, 49, 87]"
      ]
     },
     "execution_count": 40,
     "metadata": {},
     "output_type": "execute_result"
    }
   ],
   "source": [
    "n_test"
   ]
  },
  {
   "cell_type": "code",
   "execution_count": 41,
   "id": "88020a7f",
   "metadata": {},
   "outputs": [],
   "source": [
    "n_num = [num[i] for i in idx_wrong]"
   ]
  },
  {
   "cell_type": "code",
   "execution_count": 42,
   "id": "b08ca217",
   "metadata": {},
   "outputs": [
    {
     "data": {
      "text/plain": [
       "[425, 47, 85]"
      ]
     },
     "execution_count": 42,
     "metadata": {},
     "output_type": "execute_result"
    }
   ],
   "source": [
    "n_num"
   ]
  },
  {
   "cell_type": "code",
   "execution_count": 43,
   "id": "bd6ae909",
   "metadata": {},
   "outputs": [
    {
     "data": {
      "text/plain": [
       "1"
      ]
     },
     "execution_count": 43,
     "metadata": {},
     "output_type": "execute_result"
    }
   ],
   "source": [
    "sum(i - j for i, j in zip(n_test, n_num))"
   ]
  }
 ],
 "metadata": {
  "kernelspec": {
   "display_name": "Python 3",
   "language": "python",
   "name": "python3"
  },
  "language_info": {
   "codemirror_mode": {
    "name": "ipython",
    "version": 3
   },
   "file_extension": ".py",
   "mimetype": "text/x-python",
   "name": "python",
   "nbconvert_exporter": "python",
   "pygments_lexer": "ipython3",
   "version": "3.10.2"
  }
 },
 "nbformat": 4,
 "nbformat_minor": 5
}
