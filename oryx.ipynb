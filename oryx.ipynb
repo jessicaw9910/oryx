{
 "cells": [
  {
   "cell_type": "code",
   "execution_count": 1,
   "id": "c291eb30",
   "metadata": {},
   "outputs": [],
   "source": [
    "## load packages\n",
    "from bs4 import BeautifulSoup\n",
    "import requests\n",
    "import re\n",
    "import os\n",
    "import numpy as np\n",
    "import pandas as pd"
   ]
  },
  {
   "cell_type": "code",
   "execution_count": 2,
   "id": "3c11969c",
   "metadata": {},
   "outputs": [],
   "source": [
    "url = 'https://www.oryxspioenkop.com/2022/02/attack-on-europe-documenting-equipment.html'\n",
    "page = requests.get(url)\n",
    "soup = BeautifulSoup(page.content, \"html.parser\")"
   ]
  },
  {
   "cell_type": "code",
   "execution_count": 3,
   "id": "13494016",
   "metadata": {},
   "outputs": [],
   "source": [
    "li=soup.findAll('li')\n",
    "list_total = [i.text.strip() for i in li if i.find('img', class_='thumbborder') is not None]"
   ]
  },
  {
   "cell_type": "code",
   "execution_count": 290,
   "id": "8de2e0f4",
   "metadata": {},
   "outputs": [],
   "source": [
    "list_name = []\n",
    "list_status = []\n",
    "list_count = []\n",
    "list_idx = []\n",
    "# i = 0\n",
    "\n",
    "for entry in list_total:\n",
    "#     print(i)\n",
    "\n",
    "    ## take left of ':'\n",
    "    temp1 = entry.split(':')[0].strip().split(' ', 1)\n",
    "    \n",
    "    ## turn string into int - some have extra character, so take 1st str\n",
    "    try:\n",
    "        list_count.append(int(temp1[0]))\n",
    "    except:\n",
    "        list_count.append(int(temp1[0][0]))\n",
    "        \n",
    "    list_name.append(temp1[1])\n",
    "\n",
    "    temp2 = entry.split(':')[1].strip()\n",
    "    temp2 = re.findall('\\(.*?\\)',temp2)\n",
    "    temp2 = [i.replace('(', '').replace(')', '').rsplit(',', 1) for i in temp2]\n",
    "#     temp2 = [i.replace('(', '').replace(')', '').split(',') for i in temp2]\n",
    "#     print([len(i) for i in temp2])\n",
    "#     print(temp2)\n",
    "\n",
    "    count = []\n",
    "    status = []\n",
    "\n",
    "    for i in temp2:\n",
    "        ## if missing comma, split on space (list_total[6] check)\n",
    "        if len(i) == 1:\n",
    "            i = i[0].split(' ')\n",
    "        ## some concatenated together\n",
    "        num = [int(s) for s in re.findall(r'\\s|,|[^,\\s]+', i[0]) if s.isdigit()]\n",
    "        count.extend(num)\n",
    "        status.extend([i[1].strip()] * len(num))\n",
    "#         print(count, status)\n",
    "#         print(len(count) == len(status))\n",
    "#         print()\n",
    "#         i += 1\n",
    "\n",
    "    list_idx.append(count)\n",
    "    list_status.append(status)\n",
    "\n",
    "#     i += 1"
   ]
  },
  {
   "cell_type": "code",
   "execution_count": 291,
   "id": "dde66ea3",
   "metadata": {},
   "outputs": [
    {
     "name": "stdout",
     "output_type": "stream",
     "text": [
      "[5, 2]\n",
      "[6, 1]\n",
      "[80, 86]\n",
      "\n",
      "80\n",
      "5 152mm 2A65 Msta-B howitzer: (1, destroyed by Bayraktar TB2) (2, destroyed by Bayraktar TB2) (3, destroyed by Bayraktar TB2) (4, damaged by Bayraktar TB2 and captured) (5, abandoned) (6, captured)\n",
      "\n",
      "86\n",
      "2 220mm BM-27 'Uragan': (1, destroyed by Bayraktar TB2) (1, abandoned and destroyed)\n",
      "\n"
     ]
    }
   ],
   "source": [
    "list_end = [max(i) for i in list_idx]\n",
    "idx_wrong = [i for i, j in enumerate(list_end) if j != int(list_count[i])]\n",
    "\n",
    "print([list_count[i] for i in idx_wrong])\n",
    "print([list_end[i] for i in idx_wrong])\n",
    "print(idx_wrong)\n",
    "print()\n",
    "\n",
    "for idx in idx_wrong:\n",
    "    print(idx)\n",
    "    print(list_total[idx])\n",
    "    print()\n",
    "    \n",
    "# list_hard = [list_total[i] for i in idx_wrong]"
   ]
  },
  {
   "cell_type": "code",
   "execution_count": 292,
   "id": "90a0f718",
   "metadata": {},
   "outputs": [],
   "source": [
    "## fix errors\n",
    "list_count[80] = 6\n",
    "list_idx[86][-1] = 2"
   ]
  },
  {
   "cell_type": "code",
   "execution_count": 43,
   "id": "51e4dc7d",
   "metadata": {},
   "outputs": [],
   "source": [
    "h3=soup.findAll('h3')\n",
    "## find indices where text != '\\n'\n",
    "idx_h3 = [m for m, n in enumerate(h3) if n.text != '\\n']\n",
    "## find text where text != '\\n'\n",
    "name_h3 = [n.text for n in h3 if n.text != '\\n']\n",
    "\n",
    "tag_list = [tag.name for tag in soup.find_all(True)]\n",
    "## find index of all h3 tags\n",
    "idx_tag = [idx for idx, tag in enumerate(tag_list) if tag == 'h3']\n",
    "idx_h3 = [idx_tag[i] for i in idx_h3]\n",
    "\n",
    "## find index of li tags\n",
    "idx_li = [n for n, tag in enumerate(tag_list) if tag == 'li']\n",
    "\n",
    "text = [name.text for name in soup.find_all(True)]\n",
    "\n",
    "idx_ukr = [i for i in idx_h3 if 'Ukraine' in text[i]][0]\n",
    "idx_rus = [i for i in idx_h3 if 'Russia' in text[i]][0]\n",
    "\n",
    "categories = [text[i] for i in idx_h3 if i not in [idx_rus, idx_ukr]]\n",
    "name_cat = [entry.split('(')[0].strip() for entry in categories]"
   ]
  },
  {
   "cell_type": "code",
   "execution_count": 151,
   "id": "da530dcb",
   "metadata": {},
   "outputs": [],
   "source": [
    "list_indices = []\n",
    "list_country = []\n",
    "\n",
    "for i in range(len(idx_h3) - 1):\n",
    "    if idx_h3[i] not in [idx_rus, idx_ukr]:\n",
    "#         print(idx_h3[i])\n",
    "#         print(idx_h3[i + 1])\n",
    "#         print()        \n",
    "        list_indices.append([idx for idx in idx_li if idx > idx_h3[i] and idx < idx_h3[i + 1]])\n",
    "        if idx_h3[i] > idx_ukr:\n",
    "            list_country.append('UKR')\n",
    "        else:\n",
    "            list_country.append('RUS')\n",
    "\n",
    "## for last entry\n",
    "list_country.append('UKR')\n",
    "    \n",
    "# [idx for idx in idx_li if idx > idx_h3[1] and idx < idx_h3[2]]\n",
    "\n",
    "idx_names = np.cumsum([len(i) for i in list_indices])\n",
    "\n",
    "group_names = []\n",
    "\n",
    "group_names.append(list_name[0:idx_names[0]])\n",
    "\n",
    "for i in range(len(idx_names) - 1):\n",
    "    group_names.append(list_name[idx_names[i]:idx_names[i + 1]])\n",
    "    \n",
    "# group_names.append(list_name[idx_names[-1]:-1])\n",
    "last_entry = list_name[idx_names[-1]:-1]\n",
    "last_entry.append(list_name[-1])\n",
    "group_names.append(last_entry)"
   ]
  },
  {
   "cell_type": "code",
   "execution_count": 293,
   "id": "1790215d",
   "metadata": {},
   "outputs": [],
   "source": [
    "names = [[list_name[i]] * len(j) for i, j in enumerate(list_status)]\n",
    "names = [item for sublist in names for item in sublist]\n",
    "status = [item for sublist in list_status for item in sublist]\n",
    "idx = [item for sublist in list_idx for item in sublist]"
   ]
  },
  {
   "cell_type": "code",
   "execution_count": 224,
   "id": "20ad96e4",
   "metadata": {},
   "outputs": [],
   "source": [
    "i = 0\n",
    "\n",
    "list_groups = []\n",
    "list_countries = []\n",
    "\n",
    "for idx, groups in enumerate(group_names):\n",
    "    for group in groups:\n",
    "        list_groups.append([name_cat[idx]] * list_count[i])\n",
    "        list_countries.append([list_country[idx]] * list_count[i])\n",
    "#         print([name_cat[idx]] * list_count[i])\n",
    "#         print(group)\n",
    "#         print(idx)\n",
    "        i += 1\n",
    "#         print(i)\n",
    "#     print(group)\n",
    "\n",
    "group = [item for sublist in list_groups for item in sublist]\n",
    "country = [item for sublist in list_countries for item in sublist]"
   ]
  },
  {
   "cell_type": "code",
   "execution_count": 296,
   "id": "ecd3b9c0",
   "metadata": {},
   "outputs": [],
   "source": [
    "df = pd.DataFrame({'names':names, 'status':status, 'idx': idx, 'group':group, 'country':country})"
   ]
  },
  {
   "cell_type": "code",
   "execution_count": 297,
   "id": "1b9038df",
   "metadata": {},
   "outputs": [],
   "source": [
    "## output dataframe to CSV\n",
    "cwd = os.getcwd()\n",
    "path = cwd + \"/output.csv\"\n",
    "df.to_csv(path, index=False)"
   ]
  }
 ],
 "metadata": {
  "kernelspec": {
   "display_name": "Python 3",
   "language": "python",
   "name": "python3"
  },
  "language_info": {
   "codemirror_mode": {
    "name": "ipython",
    "version": 3
   },
   "file_extension": ".py",
   "mimetype": "text/x-python",
   "name": "python",
   "nbconvert_exporter": "python",
   "pygments_lexer": "ipython3",
   "version": "3.10.2"
  }
 },
 "nbformat": 4,
 "nbformat_minor": 5
}
