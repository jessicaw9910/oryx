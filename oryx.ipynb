{
 "cells": [
  {
   "cell_type": "code",
   "execution_count": 1,
   "id": "c291eb30",
   "metadata": {},
   "outputs": [],
   "source": [
    "## load packages\n",
    "from bs4 import BeautifulSoup\n",
    "import requests\n",
    "import re\n",
    "import os\n",
    "import numpy as np\n",
    "import pandas as pd"
   ]
  },
  {
   "cell_type": "markdown",
   "id": "d57ff690",
   "metadata": {},
   "source": [
    "# Import and process"
   ]
  },
  {
   "cell_type": "code",
   "execution_count": 3,
   "id": "632fe3c9",
   "metadata": {},
   "outputs": [],
   "source": [
    "class Data:\n",
    "    def __init__(self, url):\n",
    "        self.url = url\n",
    "        ## names of items\n",
    "        self.list_name = []\n",
    "        ## status of items\n",
    "        self.list_status = []\n",
    "        ## total number of items\n",
    "        self.list_count = []\n",
    "        ## index of item for status\n",
    "        self.list_idx = []\n",
    "        ## link to confirmation\n",
    "        self.list_link = []\n",
    "    \n",
    "    def get_soup(self):\n",
    "        page = requests.get(self.url)\n",
    "        self.soup = BeautifulSoup(page.content, 'html.parser')\n",
    "    \n",
    "    def get_tags(self):\n",
    "        li = self.soup.findAll('li')\n",
    "        self.list_total = [i.text.strip() for i in li if i.find('img', class_='thumbborder') is not None]\n",
    "        self.list_href = [i.findAll('a', href=True) for i in li if i.find('img', class_='thumbborder') is not None]\n",
    "        \n",
    "    def extract_info(self):\n",
    "        for idx, entry in enumerate(self.list_total):\n",
    "            ## take left of ':', remove leading/trailing space, split on first ' '\n",
    "            temp1 = entry.split(':')[0].strip().split(' ', 1)\n",
    "\n",
    "            ## turn string at front into int\n",
    "            try:\n",
    "                self.list_count.append(int(temp1[0]))\n",
    "            ## some have extra char, so take 1st str if so\n",
    "            except:\n",
    "                self.list_count.append(int(temp1[0][0]))\n",
    "\n",
    "            ## add item name\n",
    "            self.list_name.append(temp1[1])\n",
    "\n",
    "            ## take right of ':'\n",
    "            temp2 = entry.split(':')[1].strip()\n",
    "            ## take data between '()'\n",
    "            temp2 = re.findall('\\(.*?\\)',temp2)\n",
    "            ## split on last space to the right, remove '(' and ')'\n",
    "            temp2 = [i.replace('(', '').replace(')', '').rsplit(' ', 1) for i in temp2]\n",
    "            \n",
    "            count = []\n",
    "            status = []\n",
    "            link = []\n",
    "\n",
    "            for i, val in enumerate(temp2):\n",
    "                ## some numbers concatenated together so find all numbers\n",
    "                num = [int(s) for s in re.findall(r'\\s|,|[^,\\s]+', val[0]) if s.isdigit()]\n",
    "                count.extend(num)\n",
    "                ## get data after last space to the right\n",
    "                status.extend([val[1].strip()] * len(num))\n",
    "                ## add link to match the number of occurrences\n",
    "                link.extend([self.list_href[idx][i]['href']] * len(num))\n",
    "\n",
    "            self.list_idx.append(count)\n",
    "            self.list_status.append(status)\n",
    "            self.list_link.append(link)\n",
    "            \n",
    "#         def add_groups(self):\n",
    "#             h3 = self.soup.findAll('h3')\n",
    "#             ## find indices where text != '\\n'\n",
    "#             idx_h3 = [m for m, n in enumerate(h3) if n.text != '\\n']\n",
    "#             ## find text where text != '\\n'\n",
    "#             self.name_h3 = [n.text for n in h3 if n.text != '\\n']\n",
    "\n",
    "#             tag_list = [tag.name for tag in soup.find_all(True)]\n",
    "#             ## find index of all h3 tags\n",
    "#             idx_tag = [idx for idx, tag in enumerate(tag_list) if tag == 'h3']\n",
    "#             idx_h3 = [idx_tag[i] for i in idx_h3]\n",
    "\n",
    "#             ## find index of li tags\n",
    "#             idx_li = [n for n, tag in enumerate(tag_list) if tag == 'li']\n",
    "\n",
    "#             text = [name.text for name in soup.find_all(True)]\n",
    "\n",
    "#             idx_ukr = [i for i in idx_h3 if 'Ukraine' in text[i]][0]\n",
    "#             idx_rus = [i for i in idx_h3 if 'Russia' in text[i]][0]\n",
    "\n",
    "#             categories = [text[i] for i in idx_h3 if i not in [idx_rus, idx_ukr]]\n",
    "#             name_cat = [entry.split('(')[0].strip() for entry in categories]"
   ]
  },
  {
   "cell_type": "code",
   "execution_count": 4,
   "id": "02b10fcb",
   "metadata": {},
   "outputs": [],
   "source": [
    "url = 'https://www.oryxspioenkop.com/2022/02/attack-on-europe-documenting-equipment.html'\n",
    "Oryx = Data(url)\n",
    "\n",
    "Oryx.get_soup()\n",
    "Oryx.get_tags()\n",
    "Oryx.extract_info()"
   ]
  },
  {
   "cell_type": "markdown",
   "id": "d5dbe605",
   "metadata": {},
   "source": [
    "# Fix errors"
   ]
  },
  {
   "cell_type": "code",
   "execution_count": 5,
   "id": "65121592",
   "metadata": {},
   "outputs": [],
   "source": [
    "def find_error(Data):\n",
    "    list_range = []\n",
    "    for j in Data.list_count:\n",
    "        list_range.append([i for i in range(1, j + 1)])\n",
    "\n",
    "    idx_wrong = []\n",
    "    for idx, entry in enumerate(list_range):\n",
    "        if entry != Data.list_idx[idx]:\n",
    "            idx_wrong.append(idx)\n",
    "\n",
    "    # list_end = [max(i) for i in Data.list_idx]\n",
    "    # list_end2 = [len(i) for i in Datas.list_idx]\n",
    "    \n",
    "    for i in idx_wrong:\n",
    "        print(i)\n",
    "        print(Data.list_total[i])\n",
    "        print(Data.list_idx[i])\n",
    "        print(len(Data.list_idx[i]))\n",
    "        print(Data.list_count[i])\n",
    "        print()\n",
    "    \n",
    "    return idx_wrong"
   ]
  },
  {
   "cell_type": "code",
   "execution_count": 6,
   "id": "7bbbf633",
   "metadata": {},
   "outputs": [
    {
     "name": "stdout",
     "output_type": "stream",
     "text": [
      "81\n",
      "6 152mm 2A65 Msta-B howitzer: (1, destroyed by Bayraktar TB2) (2, destroyed by Bayraktar TB2) (3, destroyed by Bayraktar TB2) (4, damaged by Bayraktar TB2) (6, damaged by Bayraktar TB2) (6, abandoned)\n",
      "[1, 2, 3, 4, 6, 6]\n",
      "6\n",
      "6\n",
      "\n",
      "88\n",
      "2 220mm BM-27 'Uragan': (1, destroyed by Bayraktar TB2) (1, abandoned and destroyed)\n",
      "[1, 1]\n",
      "2\n",
      "2\n",
      "\n",
      "128\n",
      "120 Ural-4320: (1 and 2, destroyed by Bayraktar TB2) (3, destroyed) (4, destroyed) (5, destroyed) (6, destroyed) (7, destroyed) (8, destroyed) (9, destroyed) (10, destroyed) (11, destroyed) (12, destroyed) (13 and 14, destroyed) (15, destroyed) (16, destroyed) (17 and 18, destroyed) (19, destroyed) (20, destroyed) (21, destroyed) (22, destroyed) (23, destroyed) (24, destroyed) (25 and 26, destroyed) (27, destroyed) (28, destroyed) (29, destroyed) (30, destroyed) (31, destroyed) (32, destroyed) (33, destroyed) (34, destroyed) (35, destroyed by Bayraktar TB2) (36, destroyed by Bayraktar TB2) (37, destroyed by Bayraktar TB2) (38, destroyed by Bayraktar TB2) (39, destroyed) (40, destroyed) (41, destroyed) (42, destroyed) (43, destroyed) (44 and 45, destroyed) (46, destroyed) (47, destroyed) (48, destroyed) (49, destroyed) (50, destroyed) (51, destroyed) (52, destroyed by Bayraktar TB2) (53, destroyed) (54, destroyed) (55, damaged) (56, damaged and abandoned) (57, abandoned) (58, abandoned) (59, abandoned) (60, abandoned) (61, abandoned) (62, abandoned) (63, abandoned) (64, abandoned) (65, abandoned) (66, abandoned) (67, abandoned) (68, abandoned) (69, damaged and captured) (70, captured) (71, captured) (72, captured) (73, captured) (74, captured) (75, captured) (76, captured) (77, captured) (78, captured) (79, captured) (80, captured) (81, captured) (82, captured) (83, captured) (84, captured) (85, captured) (86, captured) (87, captured) (88, captured) (89, captured) (99, captured) (91, captured) (92, captured) (93 and 94, captured) (95, captured) (96, captured) (97 and 98, captured) (99, captured) (100, captured) (101, captured) (102, captured) (103, captured) (104, captured) (105, captured) (106, captured) (107, captured) (108, captured) (109, captured) (110, captured) (111, captured) (112, captured) (113 and 114, captured) (115, captured) (116, captured) (117, captured) (118, captured) (119, captured) (120, captured)\n",
      "[1, 2, 3, 4, 5, 6, 7, 8, 9, 10, 11, 12, 13, 14, 15, 16, 17, 18, 19, 20, 21, 22, 23, 24, 25, 26, 27, 28, 29, 30, 31, 32, 33, 34, 35, 36, 37, 38, 39, 40, 41, 42, 43, 44, 45, 46, 47, 48, 49, 50, 51, 52, 53, 54, 55, 56, 57, 58, 59, 60, 61, 62, 63, 64, 65, 66, 67, 68, 69, 70, 71, 72, 73, 74, 75, 76, 77, 78, 79, 80, 81, 82, 83, 84, 85, 86, 87, 88, 89, 99, 91, 92, 93, 94, 95, 96, 97, 98, 99, 100, 101, 102, 103, 104, 105, 106, 107, 108, 109, 110, 111, 112, 113, 114, 115, 116, 117, 118, 119, 120]\n",
      "120\n",
      "120\n",
      "\n",
      "134\n",
      "162 KamAZ 6x6: (1, destroyed by Bayraktar TB2) (2, destroyed by Bayraktar TB2) (3 and 4, destroyed by Bayraktar TB2) (5, destroyed by Bayraktar TB2) (6, destroyed) (7, destroyed) (8, destroyed) (9, destroyed) (10, destroyed) (11, destroyed) (12, destroyed) (13, destroyed) (14, destroyed) (15, destroyed) (16, destroyed) (17, destroyed) (18, destroyed) (19, destroyed) (20, destroyed) (21, destroyed) (22, destroyed) (23 and 24, destroyed) (25, destroyed) (26, destroyed) (27, destroyed) (28, destroyed) (29, destroyed) (30, destroyed) (31, destroyed) (32, destroyed) (33, destroyed) (34, destroyed) (34, destroyed) (35, destroyed) (36, destroyed) (37, destroyed) (38, destroyed) (39, destroyed) (40, destroyed) (41, destroyed) (42, destroyed) (43, destroyed) (44, destroyed) (45, destroyed) (46, destroyed) (47 and 48, destroyed) (49, destroyed) (50, destroyed) (51, destroyed) (52, destroyed) (53, destroyed) (54, destroyed) (55, destroyed) (56, destroyed) (56, destroyed) (57, destroyed) (58, destroyed) (59, destroyed) (60, destroyed) (61, with ZU-23 AA gun, destroyed) (62, 63, 64, 65 and 66, destroyed) (67, 68, 69 and 70, destroyed) (71, destroyed) (72, destroyed) (73, destroyed) (74 and 75, destroyed) (76, destroyed) (77, destroyed) (78, damaged) (79, damaged) (80, damaged) (81, damaged and abandoned) (82, abandoned) (83, abandoned) (84, abandoned) (85 and 86, abandoned) (87, abandoned) (88, abandoned) (89, abandoned) (90, abandoned) (91, abandoned) (92, abandoned) (93, abandoned) (94, abandoned) (95, abandoned) (96, abandoned) (97, abandoned) (98, abandoned) (99, abandoned) (100, abandoned) (101, abandoned) (102, damaged and captured) (103, damaged and captured) (104, damaged and captured) (105, captured) (106, captured) (107, captured) (108, captured) (109 and 110, captured) (111, captured) (112, captured) (113, captured) (114 and 115, captured) (116, captured) (117, captured) (118, captured) (119 and 120, captured) (121, captured) (122, captured) (123, with ZU-23 AA gun, captured) (124, with ZU-23 AA gun, captured) (125, captured) (126, captured) (127, captured) (128, captured) (129, captured) (130 and 131, captured) (132, captured) (133, captured) (134, captured) (135, captured) (136, captured) (137, captured) (138, captured) (139, captured) (140, captured) (141, captured) (142, captured) (143, captured) (144, captured) (145, captured) (146, 147 and 148, captured) (149, captured) (150, captured) (151, captured) (152, 153 and 154, captured) (155, captured) (156, captured) (157, captured) (158, captured) (159, captured) (160, captured) (161, captured) (162, captured)\n",
      "[1, 2, 3, 4, 5, 6, 7, 8, 9, 10, 11, 12, 13, 14, 15, 16, 17, 18, 19, 20, 21, 22, 23, 24, 25, 26, 27, 28, 29, 30, 31, 32, 33, 34, 34, 35, 36, 37, 38, 39, 40, 41, 42, 43, 44, 45, 46, 47, 48, 49, 50, 51, 52, 53, 54, 55, 56, 56, 57, 58, 59, 60, 61, 62, 63, 64, 65, 66, 67, 68, 69, 70, 71, 72, 73, 74, 75, 76, 77, 78, 79, 80, 81, 82, 83, 84, 85, 86, 87, 88, 89, 90, 91, 92, 93, 94, 95, 96, 97, 98, 99, 100, 101, 102, 103, 104, 105, 106, 107, 108, 109, 110, 111, 112, 113, 114, 115, 116, 117, 118, 119, 120, 121, 122, 123, 124, 125, 126, 127, 128, 129, 130, 131, 132, 133, 134, 135, 136, 137, 138, 139, 140, 141, 142, 143, 144, 145, 146, 147, 148, 149, 150, 151, 152, 153, 154, 155, 156, 157, 158, 159, 160, 161, 162]\n",
      "164\n",
      "162\n",
      "\n",
      "187\n",
      "8 122mm 2S1 Gvozdika: (1, destroyed) (2, destroyed) (3, destroyed) (4, destroyed) (5, destroyed) (6, abandoned) (7, captured) (8, captured) (9, captured)\n",
      "[1, 2, 3, 4, 5, 6, 7, 8, 9]\n",
      "9\n",
      "8\n",
      "\n"
     ]
    }
   ],
   "source": [
    "idx_wrong = find_error(Oryx)"
   ]
  },
  {
   "cell_type": "code",
   "execution_count": 7,
   "id": "90a0f718",
   "metadata": {},
   "outputs": [],
   "source": [
    "## fix errors\n",
    "Oryx.list_idx[81][4] = 5\n",
    "Oryx.list_idx[88][-1] = 2\n",
    "Oryx.list_idx[128][89] = 90\n",
    "Oryx.list_count[187] = 9"
   ]
  },
  {
   "cell_type": "code",
   "execution_count": 8,
   "id": "17d74e2c",
   "metadata": {},
   "outputs": [
    {
     "name": "stdout",
     "output_type": "stream",
     "text": [
      "34\n",
      "56\n"
     ]
    }
   ],
   "source": [
    "## remove 2 duplicates in entries\n",
    "n = 134\n",
    "temp_idx = []\n",
    "temp_status = []\n",
    "temp_link = []\n",
    "\n",
    "for i, j in enumerate(Oryx.list_idx[n]):\n",
    "    if j not in temp_idx:\n",
    "        temp_idx.append(j)\n",
    "        temp_status.append(Oryx.list_status[n][i])\n",
    "        temp_link.append(Oryx.list_status[n][i])\n",
    "    else:\n",
    "        print(j)\n",
    "\n",
    "Oryx.list_idx[n] = temp_idx\n",
    "Oryx.list_status[n] = temp_status\n",
    "Oryx.list_link[n] = temp_link"
   ]
  },
  {
   "cell_type": "code",
   "execution_count": 9,
   "id": "6cea0910",
   "metadata": {},
   "outputs": [
    {
     "data": {
      "text/plain": [
       "[]"
      ]
     },
     "execution_count": 9,
     "metadata": {},
     "output_type": "execute_result"
    }
   ],
   "source": [
    "find_error(Oryx)"
   ]
  },
  {
   "cell_type": "markdown",
   "id": "3a68be40",
   "metadata": {},
   "source": [
    "# Add groups"
   ]
  },
  {
   "cell_type": "code",
   "execution_count": 10,
   "id": "8cca46c3",
   "metadata": {},
   "outputs": [],
   "source": [
    "h3=Oryx.soup.findAll('h3')\n",
    "## find indices where text != '\\n'\n",
    "idx_h3 = [m for m, n in enumerate(h3) if n.text != '\\n']\n",
    "## find text where text != '\\n'\n",
    "name_h3 = [n.text for n in h3 if n.text != '\\n']\n",
    "\n",
    "tag_list = [tag.name for tag in Oryx.soup.find_all(True)]\n",
    "## find index of all h3 tags\n",
    "idx_tag = [idx for idx, tag in enumerate(tag_list) if tag == 'h3']\n",
    "idx_h3 = [idx_tag[i] for i in idx_h3]\n",
    "\n",
    "## find index of li tags\n",
    "idx_li = [n for n, tag in enumerate(tag_list) if tag == 'li']\n",
    "\n",
    "text = [name.text for name in Oryx.soup.find_all(True)]\n",
    "\n",
    "idx_ukr = [i for i in idx_h3 if 'Ukraine' in text[i]][0]\n",
    "idx_rus = [i for i in idx_h3 if 'Russia' in text[i]][0]\n",
    "\n",
    "categories = [text[i] for i in idx_h3 if i not in [idx_rus, idx_ukr]]\n",
    "name_cat = [entry.split('(')[0].strip() for entry in categories]"
   ]
  },
  {
   "cell_type": "code",
   "execution_count": 13,
   "id": "dd804505",
   "metadata": {},
   "outputs": [],
   "source": [
    "list_indices = []\n",
    "list_country = []\n",
    "\n",
    "for i in range(len(idx_h3) - 1):\n",
    "    if idx_h3[i] not in [idx_rus, idx_ukr]:\n",
    "#         print(idx_h3[i])\n",
    "#         print(idx_h3[i + 1])\n",
    "#         print()        \n",
    "        list_indices.append([idx for idx in idx_li if idx > idx_h3[i] and idx < idx_h3[i + 1]])\n",
    "        if idx_h3[i] > idx_ukr:\n",
    "            list_country.append('UKR')\n",
    "        else:\n",
    "            list_country.append('RUS')\n",
    "\n",
    "## for last entry\n",
    "list_country.append('UKR')\n",
    "    \n",
    "# [idx for idx in idx_li if idx > idx_h3[1] and idx < idx_h3[2]]\n",
    "\n",
    "idx_names = np.cumsum([len(i) for i in list_indices])\n",
    "\n",
    "group_names = []\n",
    "\n",
    "group_names.append(Oryx.list_name[0:idx_names[0]])\n",
    "\n",
    "for i in range(len(idx_names) - 1):\n",
    "    group_names.append(Oryx.list_name[idx_names[i]:idx_names[i + 1]])\n",
    "    \n",
    "# group_names.append(list_name[idx_names[-1]:-1])\n",
    "last_entry = Oryx.list_name[idx_names[-1]:-1]\n",
    "last_entry.append(Oryx.list_name[-1])\n",
    "group_names.append(last_entry)"
   ]
  },
  {
   "cell_type": "code",
   "execution_count": 14,
   "id": "3f3a177c",
   "metadata": {},
   "outputs": [],
   "source": [
    "names = [[Oryx.list_name[i]] * len(j) for i, j in enumerate(Oryx.list_status)]\n",
    "names = [item for sublist in names for item in sublist]\n",
    "status = [item for sublist in Oryx.list_status for item in sublist]\n",
    "index = [item for sublist in Oryx.list_idx for item in sublist]\n",
    "link = [item for sublist in Oryx.list_link for item in sublist]"
   ]
  },
  {
   "cell_type": "code",
   "execution_count": 15,
   "id": "370b33dc",
   "metadata": {},
   "outputs": [],
   "source": [
    "i = 0\n",
    "\n",
    "list_groups = []\n",
    "list_countries = []\n",
    "\n",
    "for idx, groups in enumerate(group_names):\n",
    "    for group in groups:\n",
    "        list_groups.append([name_cat[idx]] * Oryx.list_count[i])\n",
    "        list_countries.append([list_country[idx]] * Oryx.list_count[i])\n",
    "#         print([name_cat[idx]] * Oryx.list_count[i])\n",
    "#         print(group)\n",
    "#         print(idx)\n",
    "        i += 1\n",
    "#         print(i)\n",
    "#     print(group)\n",
    "\n",
    "group = [item for sublist in list_groups for item in sublist]\n",
    "country = [item for sublist in list_countries for item in sublist]"
   ]
  },
  {
   "cell_type": "code",
   "execution_count": 16,
   "id": "aaca7d63",
   "metadata": {},
   "outputs": [
    {
     "name": "stdout",
     "output_type": "stream",
     "text": [
      "1761\n",
      "1761\n",
      "1761\n",
      "1761\n",
      "1761\n",
      "1761\n"
     ]
    }
   ],
   "source": [
    "print(len(names))\n",
    "print(len(status))\n",
    "print(len(index))\n",
    "print(len(group))\n",
    "print(len(country))\n",
    "print(len(link))"
   ]
  },
  {
   "cell_type": "code",
   "execution_count": 17,
   "id": "a81ff974",
   "metadata": {},
   "outputs": [],
   "source": [
    "df = pd.DataFrame({'names':names, 'status':status, 'idx': index, 'group':group, 'country':country, 'link': link})"
   ]
  },
  {
   "cell_type": "code",
   "execution_count": 18,
   "id": "2398df13",
   "metadata": {},
   "outputs": [
    {
     "data": {
      "text/plain": [
       "group                              country\n",
       "Trucks, Vehicles and Jeeps         RUS        410\n",
       "Tanks                              RUS        214\n",
       "Infantry Fighting Vehicles         RUS        194\n",
       "Armoured Fighting Vehicles         RUS        137\n",
       "Trucks, Vehicles and Jeeps         UKR         86\n",
       "Armoured Personnel Carriers        RUS         67\n",
       "Tanks                              UKR         65\n",
       "Anti-Tank Guided Missiles          RUS         49\n",
       "Armoured Fighting Vehicles         UKR         49\n",
       "Infantry Fighting Vehicles         UKR         42\n",
       "Engineering Vehicles               RUS         41\n",
       "Anti-tank Guided Missiles          UKR         41\n",
       "Infantry Mobility Vehicles         RUS         40\n",
       "Self-Propelled Artillery           RUS         31\n",
       "Surface-To-Air Missile Systems     RUS         30\n",
       "Towed Artillery                    RUS         27\n",
       "Multiple Rocket Launchers          RUS         23\n",
       "Infantry Mobility Vehicles         UKR         22\n",
       "Man-Portable Air Defence Systems   RUS         22\n",
       "Armoured Personnel Carriers        UKR         20\n",
       "Helicopters                        RUS         15\n",
       "Towed Artillery                    UKR         15\n",
       "Man-Portable Air Defence Systems   UKR         14\n",
       "Aircraft                           RUS         13\n",
       "Surface-To-Air Missile Systems     UKR         11\n",
       "Mine-Resistant Ambush Protected    RUS          9\n",
       "Self-Propelled Artillery           UKR          9\n",
       "Communications Stations            RUS          9\n",
       "Self-Propelled Anti-Aircraft Guns  RUS          9\n",
       "Aircraft                           UKR          9\n",
       "Unmanned Aerial Vehicles           RUS          8\n",
       "Heavy Mortars                      RUS          5\n",
       "Radars                             UKR          5\n",
       "Unmanned Aerial Vehicles           UKR          4\n",
       "Multiple Rocket Launchers          UKR          3\n",
       "Logistics Trains                   RUS          2\n",
       "Naval Ships                        UKR          2\n",
       "Anti-Aircraft Guns                 RUS          2\n",
       "Jammers And Deception Systems      RUS          2\n",
       "Self-Propelled Anti-Aircraft Guns  UKR          1\n",
       "Helicopters                        UKR          1\n",
       "Radars                             RUS          1\n",
       "Engineering Vehicles               UKR          1\n",
       "Anti-Aircraft Guns                 UKR          1\n",
       "dtype: int64"
      ]
     },
     "execution_count": 18,
     "metadata": {},
     "output_type": "execute_result"
    }
   ],
   "source": [
    "df[['group', 'country']].value_counts()"
   ]
  },
  {
   "cell_type": "code",
   "execution_count": 19,
   "id": "6039162b",
   "metadata": {},
   "outputs": [
    {
     "data": {
      "text/plain": [
       "array(['Tanks', 'Armoured Fighting Vehicles',\n",
       "       'Infantry Fighting Vehicles', 'Armoured Personnel Carriers',\n",
       "       'Mine-Resistant Ambush Protected', 'Infantry Mobility Vehicles',\n",
       "       'Communications Stations', 'Engineering Vehicles',\n",
       "       'Anti-Tank Guided Missiles', 'Man-Portable Air Defence Systems',\n",
       "       'Heavy Mortars', 'Towed Artillery', 'Self-Propelled Artillery',\n",
       "       'Multiple Rocket Launchers', 'Anti-Aircraft Guns',\n",
       "       'Self-Propelled Anti-Aircraft Guns',\n",
       "       'Surface-To-Air Missile Systems', 'Radars',\n",
       "       'Jammers And Deception Systems', 'Aircraft',\n",
       "       'Unmanned Aerial Vehicles', 'Helicopters', 'Logistics Trains',\n",
       "       'Trucks, Vehicles and Jeeps', 'Anti-tank Guided Missiles',\n",
       "       'Naval Ships'], dtype=object)"
      ]
     },
     "execution_count": 19,
     "metadata": {},
     "output_type": "execute_result"
    }
   ],
   "source": [
    "df.group.unique()"
   ]
  },
  {
   "cell_type": "code",
   "execution_count": 21,
   "id": "85ab1723",
   "metadata": {},
   "outputs": [
    {
     "name": "stdout",
     "output_type": "stream",
     "text": [
      "2022-03-14T232724Z\n"
     ]
    }
   ],
   "source": [
    "## save by datemod meta tag\n",
    "datemod = str(Oryx.soup.findAll('meta', itemprop=\"dateModified\", content=True))\n",
    "datemod = re.findall('\"([^\"]*)\"', datemod)[0].replace(':', '')\n",
    "print(datemod)"
   ]
  },
  {
   "cell_type": "code",
   "execution_count": 22,
   "id": "1b9038df",
   "metadata": {},
   "outputs": [],
   "source": [
    "## output dataframe to CSV\n",
    "# cwd = os.getcwd()\n",
    "path = 'assets/' + datemod + '.csv'\n",
    "df.to_csv(path, index=False)"
   ]
  },
  {
   "cell_type": "code",
   "execution_count": 23,
   "id": "622df690",
   "metadata": {},
   "outputs": [
    {
     "name": "stdout",
     "output_type": "stream",
     "text": [
      "2022-03-14T232724Z\n"
     ]
    }
   ],
   "source": [
    "print(datemod)"
   ]
  }
 ],
 "metadata": {
  "kernelspec": {
   "display_name": "Python 3",
   "language": "python",
   "name": "python3"
  },
  "language_info": {
   "codemirror_mode": {
    "name": "ipython",
    "version": 3
   },
   "file_extension": ".py",
   "mimetype": "text/x-python",
   "name": "python",
   "nbconvert_exporter": "python",
   "pygments_lexer": "ipython3",
   "version": "3.10.2"
  }
 },
 "nbformat": 4,
 "nbformat_minor": 5
}
